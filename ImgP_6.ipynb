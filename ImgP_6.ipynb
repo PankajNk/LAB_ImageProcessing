{
 "cells": [
  {
   "cell_type": "code",
   "execution_count": null,
   "metadata": {},
   "outputs": [],
   "source": [
    "import numpy as np\n",
    "from PIL import Image\n",
    "import cv2 \n",
    "\n",
    "#using numpy to create the array \n",
    "array = np.zeros([512, 256, 3], dtype=np.uint8)\n",
    "#print((array))\n",
    "\n",
    "#using list operation to specifi the region to color\n",
    "array[:,:200] = [ 0,175, 120] \n",
    "array[:,100:] = [200, 0,0 ]  \n",
    "\n",
    "img = Image.fromarray(array) #convert the image array to Image\n",
    "img.save('DIFFCOLOR.jpg')\n",
    "img.show()\n"
   ]
  }
 ],
 "metadata": {
  "kernelspec": {
   "display_name": "Python 3",
   "language": "python",
   "name": "python3"
  },
  "language_info": {
   "codemirror_mode": {
    "name": "ipython",
    "version": 3
   },
   "file_extension": ".py",
   "mimetype": "text/x-python",
   "name": "python",
   "nbconvert_exporter": "python",
   "pygments_lexer": "ipython3",
   "version": "3.7.4"
  }
 },
 "nbformat": 4,
 "nbformat_minor": 2
}
