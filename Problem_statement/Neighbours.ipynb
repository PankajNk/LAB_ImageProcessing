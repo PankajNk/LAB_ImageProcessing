{
 "cells": [
  {
   "cell_type": "code",
   "execution_count": null,
   "metadata": {},
   "outputs": [],
   "source": [
    "# Finding the four neighbours"
   ]
  },
  {
   "cell_type": "code",
   "execution_count": 85,
   "metadata": {},
   "outputs": [
    {
     "data": {
      "text/plain": [
       "array([[56, 89, 41],\n",
       "       [96, 74, 53],\n",
       "       [32, 45, 14],\n",
       "       [ 2, 65, 85]])"
      ]
     },
     "execution_count": 85,
     "metadata": {},
     "output_type": "execute_result"
    }
   ],
   "source": [
    "import numpy as np\n",
    "\n",
    "arr = np.array( [[56,89,41],\n",
    "               [96,74,53],\n",
    "               [32,45,14],\n",
    "                [2,65,85]])\n",
    "arr"
   ]
  },
  {
   "cell_type": "code",
   "execution_count": 2,
   "metadata": {},
   "outputs": [
    {
     "data": {
      "text/plain": [
       "numpy.ndarray"
      ]
     },
     "execution_count": 2,
     "metadata": {},
     "output_type": "execute_result"
    }
   ],
   "source": [
    "type(arr)"
   ]
  },
  {
   "cell_type": "code",
   "execution_count": 88,
   "metadata": {},
   "outputs": [],
   "source": [
    "#m,n = int(input(\"enter the indexof row \")),int(input(\"enter the indexof column \"))"
   ]
  },
  {
   "cell_type": "code",
   "execution_count": 86,
   "metadata": {},
   "outputs": [],
   "source": [
    "def neighbour(m,n):\n",
    "    value =[]\n",
    "    sumn =0 \n",
    "    Lm,Ln=m,n-1\n",
    "    if (Ln>=0): \n",
    "        L=arr[Lm][Ln]\n",
    "        #print(L)\n",
    "        sumn +=L\n",
    "        value.append(L)\n",
    "    \n",
    "    Tm,Tn=m-1,n\n",
    "    if Tm>=0:\n",
    "        T=arr[Tm][Tn]\n",
    "        #print(T)\n",
    "        sumn +=T\n",
    "        value.append(T)\n",
    "    \n",
    "    Rm,Rn=m,n+1\n",
    "    if(Rn<arr.shape[1]):\n",
    "        R=arr[Rm][Rn]\n",
    "        #print(R)\n",
    "        sumn +=R\n",
    "        value.append(R)\n",
    "    \n",
    "    Bm,Bn=m+1,n\n",
    "    if Bm<arr.shape[0]:\n",
    "        B=arr[Bm][Bn]\n",
    "        #print(B)\n",
    "        sumn +=B\n",
    "        value.append(B)\n",
    "        \n",
    "    return value,sumn"
   ]
  },
  {
   "cell_type": "code",
   "execution_count": 90,
   "metadata": {},
   "outputs": [
    {
     "name": "stdout",
     "output_type": "stream",
     "text": [
      " Four Neigbours \n",
      "Neighbours of  56  :  [89, 96] \n",
      "Sum of neighbours : 185 \n",
      "\n",
      "Neighbours of  89  :  [56, 41, 74] \n",
      "Sum of neighbours : 171 \n",
      "\n",
      "Neighbours of  41  :  [89, 53] \n",
      "Sum of neighbours : 142 \n",
      "\n",
      "Neighbours of  96  :  [56, 74, 32] \n",
      "Sum of neighbours : 162 \n",
      "\n",
      "Neighbours of  74  :  [96, 89, 53, 45] \n",
      "Sum of neighbours : 283 \n",
      "\n",
      "Neighbours of  53  :  [74, 41, 14] \n",
      "Sum of neighbours : 129 \n",
      "\n",
      "Neighbours of  32  :  [96, 45, 2] \n",
      "Sum of neighbours : 143 \n",
      "\n",
      "Neighbours of  45  :  [32, 74, 14, 65] \n",
      "Sum of neighbours : 185 \n",
      "\n",
      "Neighbours of  14  :  [45, 53, 85] \n",
      "Sum of neighbours : 183 \n",
      "\n",
      "Neighbours of  2  :  [32, 65] \n",
      "Sum of neighbours : 97 \n",
      "\n",
      "Neighbours of  65  :  [2, 45, 85] \n",
      "Sum of neighbours : 132 \n",
      "\n",
      "Neighbours of  85  :  [65, 14] \n",
      "Sum of neighbours : 79 \n",
      "\n"
     ]
    }
   ],
   "source": [
    "print(\" Four Neigbours \")\n",
    "for c in range(arr.shape[0]) :\n",
    "    for r in range(arr.shape[1]):\n",
    "        #print(c,r)\n",
    "        N,S = neighbour(c,r)\n",
    "        \n",
    "        print(\"Neighbours of \",arr[c][r],\" : \",N ,\"\\nSum of neighbours :\",S, \"\\n\")\n",
    "        "
   ]
  },
  {
   "cell_type": "code",
   "execution_count": null,
   "metadata": {},
   "outputs": [],
   "source": []
  },
  {
   "cell_type": "code",
   "execution_count": null,
   "metadata": {},
   "outputs": [],
   "source": []
  }
 ],
 "metadata": {
  "kernelspec": {
   "display_name": "Python 3",
   "language": "python",
   "name": "python3"
  },
  "language_info": {
   "codemirror_mode": {
    "name": "ipython",
    "version": 3
   },
   "file_extension": ".py",
   "mimetype": "text/x-python",
   "name": "python",
   "nbconvert_exporter": "python",
   "pygments_lexer": "ipython3",
   "version": "3.7.4"
  }
 },
 "nbformat": 4,
 "nbformat_minor": 2
}
