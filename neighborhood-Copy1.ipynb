{
 "cells": [
  {
   "cell_type": "code",
   "execution_count": 1,
   "metadata": {},
   "outputs": [
    {
     "name": "stdout",
     "output_type": "stream",
     "text": [
      "Original matrix:\n",
      " [[1 2 3]\n",
      " [4 5 6]\n",
      " [7 8 9]]\n",
      "Summed neighbors matrix:\n",
      " [[11. 19. 13.]\n",
      " [23. 40. 27.]\n",
      " [17. 31. 19.]]\n"
     ]
    }
   ],
   "source": [
    "#7.Find the sum of all neighborhood values of the matrix.\n",
    "import numpy as np\n",
    "M = [[1, 2, 3],\n",
    "[4, 5, 6],\n",
    "[7, 8, 9]]\n",
    "M = np.asarray(M)\n",
    "N = np.zeros(M.shape)\n",
    "def sumNeighbors(M,x,y):\n",
    "    l = []\n",
    "    for i in range(max(0,x-1),x+2): # max(0,x-1), such that no negative values in range()\n",
    "        for j in range(max(0,y-1),y+2):\n",
    "            try:\n",
    "                t = M[i][j]\n",
    "                l.append(t)\n",
    "            except IndexError: # if entry doesnt exist\n",
    "                pass\n",
    "    return sum(l)-M[x][y] # exclude the entry itself\n",
    "for i in range(M.shape[0]):\n",
    "    for j in range(M.shape[1]):\n",
    "        N[i][j] = sumNeighbors(M, i, j)\n",
    "print (\"Original matrix:\\n\", M)\n",
    "print (\"Summed neighbors matrix:\\n\", N)\n"
   ]
  },
  {
   "cell_type": "code",
   "execution_count": null,
   "metadata": {},
   "outputs": [],
   "source": []
  }
 ],
 "metadata": {
  "kernelspec": {
   "display_name": "Python 3",
   "language": "python",
   "name": "python3"
  },
  "language_info": {
   "codemirror_mode": {
    "name": "ipython",
    "version": 3
   },
   "file_extension": ".py",
   "mimetype": "text/x-python",
   "name": "python",
   "nbconvert_exporter": "python",
   "pygments_lexer": "ipython3",
   "version": "3.8.5"
  }
 },
 "nbformat": 4,
 "nbformat_minor": 4
}
