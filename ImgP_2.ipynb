{
 "cells": [
  {
   "cell_type": "code",
   "execution_count": null,
   "metadata": {},
   "outputs": [],
   "source": []
  },
  {
   "cell_type": "raw",
   "metadata": {},
   "source": [
    "Resizing an image can be done in many ways. We will look into examples demonstrating the following resize operations.\n",
    "\n",
    "Preserve Aspect Ratio (height to width ratio of image is preserved)\n",
    "Downscale (Decrease the size of the image)\n",
    "Upscale (Increase the size of the image)\n",
    "Do not preserve Aspect Ratio\n",
    "Resize only the width (Increase or decrease the width of the image keeping height unchanged)\n",
    "Resize only the height (Increase or decrease the height of the image keeping width unchanged)\n",
    "Resize to specific width and height\n",
    "\n",
    "#INTER_NEAREST – a nearest-neighbor interpolation,\n",
    "#INTER_LINEAR – a bilinear interpolation (used by default)\n",
    "#INTER_AREA – resampling using pixel area relation"
   ]
  },
  {
   "cell_type": "code",
   "execution_count": null,
   "metadata": {},
   "outputs": [],
   "source": [
    "import cv2\n",
    "import numpy as np\n",
    "FILE_NAME = './image/fly2.jpg'\n",
    "try: \n",
    "    img = cv2.imread(FILE_NAME) \n",
    "    (height, width) = img.shape[:2] \n",
    "    #print(height, width)\n",
    "    #resized and interpolation\n",
    "    #ob = resize() with parameter src ,reducing to half on width then on heigtand interpolation\n",
    "    res = cv2.resize(img, (int(width / 2), int(height / 2)), interpolation = cv2.INTER_CUBIC) \n",
    "    cv2.imwrite('result.jpg', res) \n",
    "    cv2.imshow('image',img)\n",
    "    cv2.imshow('result',res)\n",
    "    k = cv2.waitKey()\n",
    "    if k== 27:\n",
    "        cv2.destroyAllWindows()\n",
    "\n",
    "except IOError: \n",
    "    print ('Error Readinf file')\n",
    "    k = cv2.waitKey()\n",
    "    if k== 27:\n",
    "        cv2.destroyAllWindows()"
   ]
  },
  {
   "cell_type": "code",
   "execution_count": null,
   "metadata": {},
   "outputs": [],
   "source": [
    "import cv2 \n",
    "import numpy as np \n",
    "  \n",
    "FILE_NAME = './image/fly2.jpg'\n",
    "img = cv2.imread(FILE_NAME) \n",
    "(rows, cols) = img.shape[:2] \n",
    "#M = cv2.getRotationMatrix2D(center, theta, 1)\n",
    "M = cv2.getRotationMatrix2D((cols / 2, rows / 2), 45, 1) \n",
    "\n",
    "#rotated = cv2.warpAffine(image, M, (int(w), int(h)))\n",
    "res = cv2.warpAffine(img, M, (cols, rows)) \n",
    "cv2.imshow('result.jpg', res) \n",
    "\n",
    "k = cv2.waitKey()\n",
    "if k== 27:\n",
    "    cv2.destroyAllWindows()"
   ]
  },
  {
   "cell_type": "code",
   "execution_count": null,
   "metadata": {},
   "outputs": [],
   "source": []
  }
 ],
 "metadata": {
  "kernelspec": {
   "display_name": "Python 3",
   "language": "python",
   "name": "python3"
  },
  "language_info": {
   "codemirror_mode": {
    "name": "ipython",
    "version": 3
   },
   "file_extension": ".py",
   "mimetype": "text/x-python",
   "name": "python",
   "nbconvert_exporter": "python",
   "pygments_lexer": "ipython3",
   "version": "3.7.4"
  }
 },
 "nbformat": 4,
 "nbformat_minor": 2
}
