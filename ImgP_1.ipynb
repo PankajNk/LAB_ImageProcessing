{
 "cells": [
  {
   "cell_type": "markdown",
   "metadata": {},
   "source": [
    "OpenCV is a cross-platform library using which we can develop real-time computer vision applications. It mainly focuses on image processing, video capture and analysis including features like face detection and object detection"
   ]
  },
  {
   "cell_type": "code",
   "execution_count": 2,
   "metadata": {},
   "outputs": [],
   "source": [
    "import cv2\n",
    "\n",
    "# function cv2.imread() to read an image\n",
    "#imread takens two arguments one -->path of image \n",
    "#                           two --->cv2.IMREAD_COLOR ,cv2.IMREAD_GRAYSCALE,cv2.IMREAD_UNCHANGED 0r just 1,0,-1\n",
    "\n",
    "#function cv2.imshow() to display an image in a window.\n",
    "img = cv2.imread(\"./image/fly2.jpg\",0) \n",
    "cv2.imshow('Fly',img)\n",
    "\n",
    "#cv2.imwrite() to save an image\n",
    "#First argument is the file name, second argument is the image you want to save.\n",
    "cv2.imwrite(\"butterfly.jpg\",img)\n",
    "\n",
    "k = cv2.waitKey() #cv2.waitKey() is a keyboard binding function. Its argument is the time in milliseconds\n",
    "if k== 27:\n",
    "    cv2.destroyAllWindows() #cv2.destroyAllWindows() simply destroys all the windows we created"
   ]
  },
  {
   "cell_type": "code",
   "execution_count": null,
   "metadata": {},
   "outputs": [],
   "source": []
  }
 ],
 "metadata": {
  "kernelspec": {
   "display_name": "Python 3",
   "language": "python",
   "name": "python3"
  },
  "language_info": {
   "codemirror_mode": {
    "name": "ipython",
    "version": 3
   },
   "file_extension": ".py",
   "mimetype": "text/x-python",
   "name": "python",
   "nbconvert_exporter": "python",
   "pygments_lexer": "ipython3",
   "version": "3.7.4"
  }
 },
 "nbformat": 4,
 "nbformat_minor": 2
}
