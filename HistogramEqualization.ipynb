{
 "cells": [
  {
   "cell_type": "code",
   "execution_count": 1,
   "metadata": {},
   "outputs": [],
   "source": [
    "import matplotlib.pyplot as  plt \n",
    "import numpy as np\n",
    "import cv2"
   ]
  },
  {
   "cell_type": "code",
   "execution_count": 2,
   "metadata": {},
   "outputs": [],
   "source": [
    "img = cv2.imread(\"./image/coin1.png\")"
   ]
  },
  {
   "cell_type": "code",
   "execution_count": 3,
   "metadata": {},
   "outputs": [],
   "source": [
    "s= img.shape\n",
    "#gray convert\n",
    "img_gray = cv2.cvtColor(img,cv2.COLOR_BGR2GRAY)\n",
    "\n",
    "img_gray = cv2.convertScaleAbs(img_gray, alpha = 1.1,beta = -20)\n",
    "#Convert to scalar is needed\n",
    "#aipha is contrast \n",
    "#beta to brightness Goal to get light to lighter dark to darker   ...Enhacment\n"
   ]
  },
  {
   "cell_type": "code",
   "execution_count": null,
   "metadata": {},
   "outputs": [],
   "source": [
    "#to create the histogram \n",
    "def Hist(image):\n",
    "    s=image.shape\n",
    "    H = np.zeros(shape=(256,1))\n",
    "    for i in range(s[0]):\n",
    "        for j in range(s[1]):\n",
    "            k = image[i,j]\n",
    "            H[k,0] = H[k,0] +1 \n",
    "    return H\n",
    "\n",
    "histg = Hist(img_gray)\n",
    "\n",
    "x = histg.reshape(1,256)\n",
    "y= np.array([])\n",
    "y = np.append(y,x[0,0])\n",
    "\n",
    "for i in range(255):\n",
    "    k = x[0,i+1]+y[i] \n",
    "    y= np.append(y,k)\n",
    "y = np.round( ( y / (s[0] * s[1])) * 255 )\n",
    "\n",
    "\n",
    "for i in range (s[0]):\n",
    "    for  j in range (s[1]):\n",
    "        k = img_gray[i,j]\n",
    "        img_gray[i,j] = y[k]\n",
    "        \n",
    "eql = Hist(img_gray)\n",
    "plt.plot(histg)\n",
    "plt.plot(eql)\n",
    "plt.show()"
   ]
  }
 ],
 "metadata": {
  "kernelspec": {
   "display_name": "Python 3",
   "language": "python",
   "name": "python3"
  },
  "language_info": {
   "codemirror_mode": {
    "name": "ipython",
    "version": 3
   },
   "file_extension": ".py",
   "mimetype": "text/x-python",
   "name": "python",
   "nbconvert_exporter": "python",
   "pygments_lexer": "ipython3",
   "version": "3.7.4"
  }
 },
 "nbformat": 4,
 "nbformat_minor": 2
}
